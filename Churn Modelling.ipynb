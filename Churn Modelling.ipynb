{
 "cells": [
  {
   "cell_type": "code",
   "execution_count": 58,
   "metadata": {},
   "outputs": [],
   "source": [
    "# Artificial Neural Network"
   ]
  },
  {
   "cell_type": "code",
   "execution_count": 9,
   "metadata": {},
   "outputs": [],
   "source": [
    "# Part 1 - Data Preprocessing\n",
    "import pandas as pd\n",
    "import numpy as np\n",
    "import seaborn as sns\n",
    "import matplotlib.pyplot as plt\n",
    "%matplotlib inline"
   ]
  },
  {
   "cell_type": "code",
   "execution_count": 10,
   "metadata": {},
   "outputs": [
    {
     "data": {
      "text/html": [
       "<div>\n",
       "<style scoped>\n",
       "    .dataframe tbody tr th:only-of-type {\n",
       "        vertical-align: middle;\n",
       "    }\n",
       "\n",
       "    .dataframe tbody tr th {\n",
       "        vertical-align: top;\n",
       "    }\n",
       "\n",
       "    .dataframe thead th {\n",
       "        text-align: right;\n",
       "    }\n",
       "</style>\n",
       "<table border=\"1\" class=\"dataframe\">\n",
       "  <thead>\n",
       "    <tr style=\"text-align: right;\">\n",
       "      <th></th>\n",
       "      <th>RowNumber</th>\n",
       "      <th>CustomerId</th>\n",
       "      <th>Surname</th>\n",
       "      <th>CreditScore</th>\n",
       "      <th>Geography</th>\n",
       "      <th>Gender</th>\n",
       "      <th>Age</th>\n",
       "      <th>Tenure</th>\n",
       "      <th>Balance</th>\n",
       "      <th>NumOfProducts</th>\n",
       "      <th>HasCrCard</th>\n",
       "      <th>IsActiveMember</th>\n",
       "      <th>EstimatedSalary</th>\n",
       "      <th>Exited</th>\n",
       "    </tr>\n",
       "  </thead>\n",
       "  <tbody>\n",
       "    <tr>\n",
       "      <th>0</th>\n",
       "      <td>1</td>\n",
       "      <td>15634602</td>\n",
       "      <td>Hargrave</td>\n",
       "      <td>619</td>\n",
       "      <td>France</td>\n",
       "      <td>Female</td>\n",
       "      <td>42</td>\n",
       "      <td>2</td>\n",
       "      <td>0.00</td>\n",
       "      <td>1</td>\n",
       "      <td>1</td>\n",
       "      <td>1</td>\n",
       "      <td>101348.88</td>\n",
       "      <td>1</td>\n",
       "    </tr>\n",
       "    <tr>\n",
       "      <th>1</th>\n",
       "      <td>2</td>\n",
       "      <td>15647311</td>\n",
       "      <td>Hill</td>\n",
       "      <td>608</td>\n",
       "      <td>Spain</td>\n",
       "      <td>Female</td>\n",
       "      <td>41</td>\n",
       "      <td>1</td>\n",
       "      <td>83807.86</td>\n",
       "      <td>1</td>\n",
       "      <td>0</td>\n",
       "      <td>1</td>\n",
       "      <td>112542.58</td>\n",
       "      <td>0</td>\n",
       "    </tr>\n",
       "    <tr>\n",
       "      <th>2</th>\n",
       "      <td>3</td>\n",
       "      <td>15619304</td>\n",
       "      <td>Onio</td>\n",
       "      <td>502</td>\n",
       "      <td>France</td>\n",
       "      <td>Female</td>\n",
       "      <td>42</td>\n",
       "      <td>8</td>\n",
       "      <td>159660.80</td>\n",
       "      <td>3</td>\n",
       "      <td>1</td>\n",
       "      <td>0</td>\n",
       "      <td>113931.57</td>\n",
       "      <td>1</td>\n",
       "    </tr>\n",
       "    <tr>\n",
       "      <th>3</th>\n",
       "      <td>4</td>\n",
       "      <td>15701354</td>\n",
       "      <td>Boni</td>\n",
       "      <td>699</td>\n",
       "      <td>France</td>\n",
       "      <td>Female</td>\n",
       "      <td>39</td>\n",
       "      <td>1</td>\n",
       "      <td>0.00</td>\n",
       "      <td>2</td>\n",
       "      <td>0</td>\n",
       "      <td>0</td>\n",
       "      <td>93826.63</td>\n",
       "      <td>0</td>\n",
       "    </tr>\n",
       "    <tr>\n",
       "      <th>4</th>\n",
       "      <td>5</td>\n",
       "      <td>15737888</td>\n",
       "      <td>Mitchell</td>\n",
       "      <td>850</td>\n",
       "      <td>Spain</td>\n",
       "      <td>Female</td>\n",
       "      <td>43</td>\n",
       "      <td>2</td>\n",
       "      <td>125510.82</td>\n",
       "      <td>1</td>\n",
       "      <td>1</td>\n",
       "      <td>1</td>\n",
       "      <td>79084.10</td>\n",
       "      <td>0</td>\n",
       "    </tr>\n",
       "  </tbody>\n",
       "</table>\n",
       "</div>"
      ],
      "text/plain": [
       "   RowNumber  CustomerId   Surname  CreditScore Geography  Gender  Age  \\\n",
       "0          1    15634602  Hargrave          619    France  Female   42   \n",
       "1          2    15647311      Hill          608     Spain  Female   41   \n",
       "2          3    15619304      Onio          502    France  Female   42   \n",
       "3          4    15701354      Boni          699    France  Female   39   \n",
       "4          5    15737888  Mitchell          850     Spain  Female   43   \n",
       "\n",
       "   Tenure    Balance  NumOfProducts  HasCrCard  IsActiveMember  \\\n",
       "0       2       0.00              1          1               1   \n",
       "1       1   83807.86              1          0               1   \n",
       "2       8  159660.80              3          1               0   \n",
       "3       1       0.00              2          0               0   \n",
       "4       2  125510.82              1          1               1   \n",
       "\n",
       "   EstimatedSalary  Exited  \n",
       "0        101348.88       1  \n",
       "1        112542.58       0  \n",
       "2        113931.57       1  \n",
       "3         93826.63       0  \n",
       "4         79084.10       0  "
      ]
     },
     "execution_count": 10,
     "metadata": {},
     "output_type": "execute_result"
    }
   ],
   "source": [
    "# Importing the dataset\n",
    "df=pd.read_csv(r'C:\\Users\\Lenovo\\Desktop\\Data\\Churn_Modelling.csv')\n",
    "df.head()"
   ]
  },
  {
   "cell_type": "code",
   "execution_count": 13,
   "metadata": {},
   "outputs": [
    {
     "name": "stdout",
     "output_type": "stream",
     "text": [
      "<class 'pandas.core.frame.DataFrame'>\n",
      "RangeIndex: 10000 entries, 0 to 9999\n",
      "Data columns (total 14 columns):\n",
      " #   Column           Non-Null Count  Dtype  \n",
      "---  ------           --------------  -----  \n",
      " 0   RowNumber        10000 non-null  int64  \n",
      " 1   CustomerId       10000 non-null  int64  \n",
      " 2   Surname          10000 non-null  object \n",
      " 3   CreditScore      10000 non-null  int64  \n",
      " 4   Geography        10000 non-null  object \n",
      " 5   Gender           10000 non-null  object \n",
      " 6   Age              10000 non-null  int64  \n",
      " 7   Tenure           10000 non-null  int64  \n",
      " 8   Balance          10000 non-null  float64\n",
      " 9   NumOfProducts    10000 non-null  int64  \n",
      " 10  HasCrCard        10000 non-null  int64  \n",
      " 11  IsActiveMember   10000 non-null  int64  \n",
      " 12  EstimatedSalary  10000 non-null  float64\n",
      " 13  Exited           10000 non-null  int64  \n",
      "dtypes: float64(2), int64(9), object(3)\n",
      "memory usage: 1.1+ MB\n"
     ]
    }
   ],
   "source": [
    "df.info()"
   ]
  },
  {
   "cell_type": "code",
   "execution_count": 15,
   "metadata": {},
   "outputs": [],
   "source": [
    "# Manging data\n",
    "df.drop('RowNumber',axis=1,inplace=True)\n",
    "df.drop('CustomerId',axis=1,inplace=True)\n",
    "df.drop('Surname',axis=1,inplace=True)"
   ]
  },
  {
   "cell_type": "code",
   "execution_count": 19,
   "metadata": {},
   "outputs": [],
   "source": [
    "#Creating dummy variable\n",
    "geography=pd.get_dummies(df['Geography'],drop_first=True)\n",
    "gender=pd.get_dummies(df['Gender'],drop_first=True)"
   ]
  },
  {
   "cell_type": "code",
   "execution_count": 21,
   "metadata": {},
   "outputs": [],
   "source": [
    "#joinining the dummy variable\n",
    "df=pd.concat((df,geography,gender),axis=1)"
   ]
  },
  {
   "cell_type": "code",
   "execution_count": 27,
   "metadata": {},
   "outputs": [
    {
     "data": {
      "text/html": [
       "<div>\n",
       "<style scoped>\n",
       "    .dataframe tbody tr th:only-of-type {\n",
       "        vertical-align: middle;\n",
       "    }\n",
       "\n",
       "    .dataframe tbody tr th {\n",
       "        vertical-align: top;\n",
       "    }\n",
       "\n",
       "    .dataframe thead th {\n",
       "        text-align: right;\n",
       "    }\n",
       "</style>\n",
       "<table border=\"1\" class=\"dataframe\">\n",
       "  <thead>\n",
       "    <tr style=\"text-align: right;\">\n",
       "      <th></th>\n",
       "      <th>CreditScore</th>\n",
       "      <th>Age</th>\n",
       "      <th>Tenure</th>\n",
       "      <th>Balance</th>\n",
       "      <th>NumOfProducts</th>\n",
       "      <th>HasCrCard</th>\n",
       "      <th>IsActiveMember</th>\n",
       "      <th>EstimatedSalary</th>\n",
       "      <th>Exited</th>\n",
       "      <th>Germany</th>\n",
       "      <th>Spain</th>\n",
       "      <th>Male</th>\n",
       "    </tr>\n",
       "  </thead>\n",
       "  <tbody>\n",
       "    <tr>\n",
       "      <th>0</th>\n",
       "      <td>619</td>\n",
       "      <td>42</td>\n",
       "      <td>2</td>\n",
       "      <td>0.00</td>\n",
       "      <td>1</td>\n",
       "      <td>1</td>\n",
       "      <td>1</td>\n",
       "      <td>101348.88</td>\n",
       "      <td>1</td>\n",
       "      <td>0</td>\n",
       "      <td>0</td>\n",
       "      <td>0</td>\n",
       "    </tr>\n",
       "    <tr>\n",
       "      <th>1</th>\n",
       "      <td>608</td>\n",
       "      <td>41</td>\n",
       "      <td>1</td>\n",
       "      <td>83807.86</td>\n",
       "      <td>1</td>\n",
       "      <td>0</td>\n",
       "      <td>1</td>\n",
       "      <td>112542.58</td>\n",
       "      <td>0</td>\n",
       "      <td>0</td>\n",
       "      <td>1</td>\n",
       "      <td>0</td>\n",
       "    </tr>\n",
       "    <tr>\n",
       "      <th>2</th>\n",
       "      <td>502</td>\n",
       "      <td>42</td>\n",
       "      <td>8</td>\n",
       "      <td>159660.80</td>\n",
       "      <td>3</td>\n",
       "      <td>1</td>\n",
       "      <td>0</td>\n",
       "      <td>113931.57</td>\n",
       "      <td>1</td>\n",
       "      <td>0</td>\n",
       "      <td>0</td>\n",
       "      <td>0</td>\n",
       "    </tr>\n",
       "    <tr>\n",
       "      <th>3</th>\n",
       "      <td>699</td>\n",
       "      <td>39</td>\n",
       "      <td>1</td>\n",
       "      <td>0.00</td>\n",
       "      <td>2</td>\n",
       "      <td>0</td>\n",
       "      <td>0</td>\n",
       "      <td>93826.63</td>\n",
       "      <td>0</td>\n",
       "      <td>0</td>\n",
       "      <td>0</td>\n",
       "      <td>0</td>\n",
       "    </tr>\n",
       "    <tr>\n",
       "      <th>4</th>\n",
       "      <td>850</td>\n",
       "      <td>43</td>\n",
       "      <td>2</td>\n",
       "      <td>125510.82</td>\n",
       "      <td>1</td>\n",
       "      <td>1</td>\n",
       "      <td>1</td>\n",
       "      <td>79084.10</td>\n",
       "      <td>0</td>\n",
       "      <td>0</td>\n",
       "      <td>1</td>\n",
       "      <td>0</td>\n",
       "    </tr>\n",
       "  </tbody>\n",
       "</table>\n",
       "</div>"
      ],
      "text/plain": [
       "   CreditScore  Age  Tenure    Balance  NumOfProducts  HasCrCard  \\\n",
       "0          619   42       2       0.00              1          1   \n",
       "1          608   41       1   83807.86              1          0   \n",
       "2          502   42       8  159660.80              3          1   \n",
       "3          699   39       1       0.00              2          0   \n",
       "4          850   43       2  125510.82              1          1   \n",
       "\n",
       "   IsActiveMember  EstimatedSalary  Exited  Germany  Spain  Male  \n",
       "0               1        101348.88       1        0      0     0  \n",
       "1               1        112542.58       0        0      1     0  \n",
       "2               0        113931.57       1        0      0     0  \n",
       "3               0         93826.63       0        0      0     0  \n",
       "4               1         79084.10       0        0      1     0  "
      ]
     },
     "execution_count": 27,
     "metadata": {},
     "output_type": "execute_result"
    }
   ],
   "source": [
    "#delete the old record\n",
    "df2=df.drop(['Geography','Gender'],axis=1)\n",
    "df2.head()"
   ]
  },
  {
   "cell_type": "code",
   "execution_count": 28,
   "metadata": {},
   "outputs": [],
   "source": [
    "#Selecting the train and test data\n",
    "X=df2.drop('Exited',axis=1)\n",
    "y=df2['Exited']"
   ]
  },
  {
   "cell_type": "code",
   "execution_count": 30,
   "metadata": {},
   "outputs": [],
   "source": [
    "from sklearn.model_selection import train_test_split\n",
    "X_train,X_test,y_train,y_test=train_test_split(X,y,test_size=0.20,random_state=0)"
   ]
  },
  {
   "cell_type": "code",
   "execution_count": 41,
   "metadata": {},
   "outputs": [
    {
     "data": {
      "text/plain": [
       "(8000, 11)"
      ]
     },
     "execution_count": 41,
     "metadata": {},
     "output_type": "execute_result"
    }
   ],
   "source": [
    "(X_train).shape"
   ]
  },
  {
   "cell_type": "code",
   "execution_count": 33,
   "metadata": {},
   "outputs": [],
   "source": [
    "#Feature Scaling\n",
    "from sklearn.preprocessing import StandardScaler\n",
    "sc=StandardScaler()"
   ]
  },
  {
   "cell_type": "code",
   "execution_count": 59,
   "metadata": {},
   "outputs": [
    {
     "data": {
      "text/plain": [
       "array([[-0.55204276, -0.36890377,  1.04473698, ...,  1.75486502,\n",
       "        -0.57369368, -1.09168714],\n",
       "       [-1.31490297,  0.10961719, -1.031415  , ..., -0.5698444 ,\n",
       "        -0.57369368, -1.09168714],\n",
       "       [ 0.57162971,  0.30102557,  1.04473698, ..., -0.5698444 ,\n",
       "         1.74309049, -1.09168714],\n",
       "       ...,\n",
       "       [-0.74791227, -0.27319958, -1.37744033, ..., -0.5698444 ,\n",
       "         1.74309049,  0.91601335],\n",
       "       [-0.00566991, -0.46460796, -0.33936434, ...,  1.75486502,\n",
       "        -0.57369368,  0.91601335],\n",
       "       [-0.79945688, -0.84742473,  1.04473698, ...,  1.75486502,\n",
       "        -0.57369368,  0.91601335]])"
      ]
     },
     "execution_count": 59,
     "metadata": {},
     "output_type": "execute_result"
    }
   ],
   "source": [
    "#Training data set O/P\n",
    "X_train = sc.fit_transform(X_train)\n",
    "X_train"
   ]
  },
  {
   "cell_type": "code",
   "execution_count": 60,
   "metadata": {},
   "outputs": [
    {
     "data": {
      "text/plain": [
       "array([[-0.55204276, -0.36890377,  1.04473698, ...,  1.75486502,\n",
       "        -0.57369368, -1.09168714],\n",
       "       [-1.31490297,  0.10961719, -1.031415  , ..., -0.5698444 ,\n",
       "        -0.57369368, -1.09168714],\n",
       "       [ 0.57162971,  0.30102557,  1.04473698, ..., -0.5698444 ,\n",
       "         1.74309049, -1.09168714],\n",
       "       ...,\n",
       "       [-0.74791227, -0.27319958, -1.37744033, ..., -0.5698444 ,\n",
       "         1.74309049,  0.91601335],\n",
       "       [-0.00566991, -0.46460796, -0.33936434, ...,  1.75486502,\n",
       "        -0.57369368,  0.91601335],\n",
       "       [-0.79945688, -0.84742473,  1.04473698, ...,  1.75486502,\n",
       "        -0.57369368,  0.91601335]])"
      ]
     },
     "execution_count": 60,
     "metadata": {},
     "output_type": "execute_result"
    }
   ],
   "source": [
    "#Testing data set O/P\n",
    "X_test = sc.transform(X_test)\n",
    "X_test"
   ]
  },
  {
   "cell_type": "code",
   "execution_count": null,
   "metadata": {},
   "outputs": [],
   "source": [
    "# Part 2 - Now let's make the ANN!"
   ]
  },
  {
   "cell_type": "code",
   "execution_count": 35,
   "metadata": {},
   "outputs": [
    {
     "name": "stderr",
     "output_type": "stream",
     "text": [
      "Using TensorFlow backend.\n"
     ]
    }
   ],
   "source": [
    "# Importing the Keras libraries and packages\n",
    "import keras"
   ]
  },
  {
   "cell_type": "code",
   "execution_count": 36,
   "metadata": {},
   "outputs": [],
   "source": [
    "from keras.models import Sequential\n",
    "from keras.layers import Dense\n",
    "from keras.layers import LeakyReLU,PReLU,ELU\n",
    "from keras.layers import Dropout"
   ]
  },
  {
   "cell_type": "code",
   "execution_count": 37,
   "metadata": {},
   "outputs": [
    {
     "name": "stdout",
     "output_type": "stream",
     "text": [
      "WARNING:tensorflow:From C:\\Users\\Lenovo\\.conda\\envs\\tensorflow 3.6\\lib\\site-packages\\keras\\backend\\tensorflow_backend.py:74: The name tf.get_default_graph is deprecated. Please use tf.compat.v1.get_default_graph instead.\n",
      "\n"
     ]
    }
   ],
   "source": [
    "# Initialising the ANN\n",
    "classifier=Sequential()"
   ]
  },
  {
   "cell_type": "code",
   "execution_count": 39,
   "metadata": {},
   "outputs": [],
   "source": [
    "# Adding the input layer and the first hidden layer\n",
    "classifier.add(Dense(units=6,kernel_initializer='he_uniform',activation='relu',input_dim = 11))"
   ]
  },
  {
   "cell_type": "code",
   "execution_count": 42,
   "metadata": {},
   "outputs": [],
   "source": [
    "# Adding the second hidden layer\n",
    "classifier.add(Dense(units=6,kernel_initializer='he_uniform',activation='relu'))"
   ]
  },
  {
   "cell_type": "code",
   "execution_count": 43,
   "metadata": {},
   "outputs": [],
   "source": [
    "# Adding the output layer\n",
    "classifier.add(Dense(units=1,kernel_initializer='glorot_uniform',activation='sigmoid'))"
   ]
  },
  {
   "cell_type": "code",
   "execution_count": 46,
   "metadata": {},
   "outputs": [],
   "source": [
    "# Compiling the ANN\n",
    "classifier.compile(optimizer='adam',loss='binary_crossentropy',metrics=['accuracy'])"
   ]
  },
  {
   "cell_type": "code",
   "execution_count": 47,
   "metadata": {},
   "outputs": [
    {
     "name": "stderr",
     "output_type": "stream",
     "text": [
      "C:\\Users\\Lenovo\\.conda\\envs\\tensorflow 3.6\\lib\\site-packages\\ipykernel_launcher.py:1: UserWarning: The `nb_epoch` argument in `fit` has been renamed `epochs`.\n",
      "  \"\"\"Entry point for launching an IPython kernel.\n"
     ]
    },
    {
     "name": "stdout",
     "output_type": "stream",
     "text": [
      "WARNING:tensorflow:From C:\\Users\\Lenovo\\.conda\\envs\\tensorflow 3.6\\lib\\site-packages\\keras\\backend\\tensorflow_backend.py:986: The name tf.assign_add is deprecated. Please use tf.compat.v1.assign_add instead.\n",
      "\n",
      "WARNING:tensorflow:From C:\\Users\\Lenovo\\.conda\\envs\\tensorflow 3.6\\lib\\site-packages\\keras\\backend\\tensorflow_backend.py:973: The name tf.assign is deprecated. Please use tf.compat.v1.assign instead.\n",
      "\n",
      "WARNING:tensorflow:From C:\\Users\\Lenovo\\.conda\\envs\\tensorflow 3.6\\lib\\site-packages\\keras\\backend\\tensorflow_backend.py:2741: The name tf.Session is deprecated. Please use tf.compat.v1.Session instead.\n",
      "\n",
      "Train on 5359 samples, validate on 2641 samples\n",
      "Epoch 1/100\n",
      "WARNING:tensorflow:From C:\\Users\\Lenovo\\.conda\\envs\\tensorflow 3.6\\lib\\site-packages\\keras\\backend\\tensorflow_backend.py:174: The name tf.get_default_session is deprecated. Please use tf.compat.v1.get_default_session instead.\n",
      "\n",
      "WARNING:tensorflow:From C:\\Users\\Lenovo\\.conda\\envs\\tensorflow 3.6\\lib\\site-packages\\keras\\backend\\tensorflow_backend.py:181: The name tf.ConfigProto is deprecated. Please use tf.compat.v1.ConfigProto instead.\n",
      "\n",
      "WARNING:tensorflow:From C:\\Users\\Lenovo\\.conda\\envs\\tensorflow 3.6\\lib\\site-packages\\keras\\backend\\tensorflow_backend.py:190: The name tf.global_variables is deprecated. Please use tf.compat.v1.global_variables instead.\n",
      "\n",
      "WARNING:tensorflow:From C:\\Users\\Lenovo\\.conda\\envs\\tensorflow 3.6\\lib\\site-packages\\keras\\backend\\tensorflow_backend.py:199: The name tf.is_variable_initialized is deprecated. Please use tf.compat.v1.is_variable_initialized instead.\n",
      "\n",
      "WARNING:tensorflow:From C:\\Users\\Lenovo\\.conda\\envs\\tensorflow 3.6\\lib\\site-packages\\keras\\backend\\tensorflow_backend.py:206: The name tf.variables_initializer is deprecated. Please use tf.compat.v1.variables_initializer instead.\n",
      "\n",
      "5359/5359 [==============================] - 3s 494us/step - loss: 0.5251 - acc: 0.7722 - val_loss: 0.4710 - val_acc: 0.7948\n",
      "Epoch 2/100\n",
      "5359/5359 [==============================] - 1s 239us/step - loss: 0.4488 - acc: 0.8018 - val_loss: 0.4432 - val_acc: 0.7989\n",
      "Epoch 3/100\n",
      "5359/5359 [==============================] - 1s 252us/step - loss: 0.4295 - acc: 0.7998 - val_loss: 0.4305 - val_acc: 0.8001\n",
      "Epoch 4/100\n",
      "5359/5359 [==============================] - 1s 235us/step - loss: 0.4160 - acc: 0.8052 - val_loss: 0.4182 - val_acc: 0.8035\n",
      "Epoch 5/100\n",
      "5359/5359 [==============================] - 1s 238us/step - loss: 0.4012 - acc: 0.8173 - val_loss: 0.4046 - val_acc: 0.8152\n",
      "Epoch 6/100\n",
      "5359/5359 [==============================] - 1s 234us/step - loss: 0.3852 - acc: 0.8322 - val_loss: 0.3935 - val_acc: 0.8311\n",
      "Epoch 7/100\n",
      "5359/5359 [==============================] - 1s 234us/step - loss: 0.3721 - acc: 0.8427 - val_loss: 0.3854 - val_acc: 0.8315\n",
      "Epoch 8/100\n",
      "5359/5359 [==============================] - 1s 233us/step - loss: 0.3634 - acc: 0.8461 - val_loss: 0.3827 - val_acc: 0.8360\n",
      "Epoch 9/100\n",
      "5359/5359 [==============================] - 1s 242us/step - loss: 0.3580 - acc: 0.8509 - val_loss: 0.3775 - val_acc: 0.8398\n",
      "Epoch 10/100\n",
      "5359/5359 [==============================] - 1s 242us/step - loss: 0.3545 - acc: 0.8517 - val_loss: 0.3757 - val_acc: 0.8436\n",
      "Epoch 11/100\n",
      "5359/5359 [==============================] - 1s 237us/step - loss: 0.3516 - acc: 0.8537 - val_loss: 0.3748 - val_acc: 0.8459\n",
      "Epoch 12/100\n",
      "5359/5359 [==============================] - 1s 241us/step - loss: 0.3484 - acc: 0.8528 - val_loss: 0.3709 - val_acc: 0.8508\n",
      "Epoch 13/100\n",
      "5359/5359 [==============================] - 1s 250us/step - loss: 0.3454 - acc: 0.8565 - val_loss: 0.3732 - val_acc: 0.8470\n",
      "Epoch 14/100\n",
      "5359/5359 [==============================] - 1s 252us/step - loss: 0.3435 - acc: 0.8531 - val_loss: 0.3683 - val_acc: 0.8542\n",
      "Epoch 15/100\n",
      "5359/5359 [==============================] - 1s 260us/step - loss: 0.3408 - acc: 0.8571 - val_loss: 0.3691 - val_acc: 0.8542\n",
      "Epoch 16/100\n",
      "5359/5359 [==============================] - 1s 245us/step - loss: 0.3401 - acc: 0.8599 - val_loss: 0.3662 - val_acc: 0.8573\n",
      "Epoch 17/100\n",
      "5359/5359 [==============================] - 1s 246us/step - loss: 0.3382 - acc: 0.8627 - val_loss: 0.3652 - val_acc: 0.8584\n",
      "Epoch 18/100\n",
      "5359/5359 [==============================] - 1s 233us/step - loss: 0.3373 - acc: 0.8586 - val_loss: 0.3649 - val_acc: 0.8554\n",
      "Epoch 19/100\n",
      "5359/5359 [==============================] - 1s 230us/step - loss: 0.3370 - acc: 0.8584 - val_loss: 0.3631 - val_acc: 0.8610\n",
      "Epoch 20/100\n",
      "5359/5359 [==============================] - 1s 229us/step - loss: 0.3357 - acc: 0.8614 - val_loss: 0.3650 - val_acc: 0.8542\n",
      "Epoch 21/100\n",
      "5359/5359 [==============================] - 1s 239us/step - loss: 0.3349 - acc: 0.8604 - val_loss: 0.3613 - val_acc: 0.8591\n",
      "Epoch 22/100\n",
      "5359/5359 [==============================] - 1s 233us/step - loss: 0.3347 - acc: 0.8600 - val_loss: 0.3616 - val_acc: 0.8603\n",
      "Epoch 23/100\n",
      "5359/5359 [==============================] - 1s 227us/step - loss: 0.3338 - acc: 0.8600 - val_loss: 0.3595 - val_acc: 0.8629\n",
      "Epoch 24/100\n",
      "5359/5359 [==============================] - 1s 231us/step - loss: 0.3337 - acc: 0.8610 - val_loss: 0.3612 - val_acc: 0.8576\n",
      "Epoch 25/100\n",
      "5359/5359 [==============================] - 1s 228us/step - loss: 0.3330 - acc: 0.8604 - val_loss: 0.3620 - val_acc: 0.8565\n",
      "Epoch 26/100\n",
      "5359/5359 [==============================] - 1s 228us/step - loss: 0.3327 - acc: 0.8604 - val_loss: 0.3602 - val_acc: 0.8595\n",
      "Epoch 27/100\n",
      "5359/5359 [==============================] - 1s 229us/step - loss: 0.3325 - acc: 0.8606 - val_loss: 0.3596 - val_acc: 0.8603\n",
      "Epoch 28/100\n",
      "5359/5359 [==============================] - 1s 244us/step - loss: 0.3323 - acc: 0.8597 - val_loss: 0.3597 - val_acc: 0.8607\n",
      "Epoch 29/100\n",
      "5359/5359 [==============================] - 1s 229us/step - loss: 0.3320 - acc: 0.8597 - val_loss: 0.3604 - val_acc: 0.8618\n",
      "Epoch 30/100\n",
      "5359/5359 [==============================] - 1s 233us/step - loss: 0.3310 - acc: 0.8617 - val_loss: 0.3596 - val_acc: 0.8576\n",
      "Epoch 31/100\n",
      "5359/5359 [==============================] - 1s 226us/step - loss: 0.3314 - acc: 0.8612 - val_loss: 0.3594 - val_acc: 0.8599\n",
      "Epoch 32/100\n",
      "5359/5359 [==============================] - 1s 226us/step - loss: 0.3313 - acc: 0.8638 - val_loss: 0.3587 - val_acc: 0.8607\n",
      "Epoch 33/100\n",
      "5359/5359 [==============================] - 1s 226us/step - loss: 0.3303 - acc: 0.8619 - val_loss: 0.3597 - val_acc: 0.8629\n",
      "Epoch 34/100\n",
      "5359/5359 [==============================] - 1s 225us/step - loss: 0.3313 - acc: 0.8640 - val_loss: 0.3621 - val_acc: 0.8610\n",
      "Epoch 35/100\n",
      "5359/5359 [==============================] - 1s 230us/step - loss: 0.3311 - acc: 0.8621 - val_loss: 0.3592 - val_acc: 0.8588\n",
      "Epoch 36/100\n",
      "5359/5359 [==============================] - 1s 227us/step - loss: 0.3304 - acc: 0.8623 - val_loss: 0.3631 - val_acc: 0.8595\n",
      "Epoch 37/100\n",
      "5359/5359 [==============================] - 1s 226us/step - loss: 0.3311 - acc: 0.8636 - val_loss: 0.3583 - val_acc: 0.8607\n",
      "Epoch 38/100\n",
      "5359/5359 [==============================] - 1s 227us/step - loss: 0.3304 - acc: 0.8625 - val_loss: 0.3578 - val_acc: 0.8603\n",
      "Epoch 39/100\n",
      "5359/5359 [==============================] - 1s 231us/step - loss: 0.3299 - acc: 0.8638 - val_loss: 0.3580 - val_acc: 0.8588\n",
      "Epoch 40/100\n",
      "5359/5359 [==============================] - 1s 227us/step - loss: 0.3300 - acc: 0.8615 - val_loss: 0.3608 - val_acc: 0.8629\n",
      "Epoch 41/100\n",
      "5359/5359 [==============================] - 1s 248us/step - loss: 0.3293 - acc: 0.8638 - val_loss: 0.3596 - val_acc: 0.8607\n",
      "Epoch 42/100\n",
      "5359/5359 [==============================] - 1s 246us/step - loss: 0.3300 - acc: 0.8615 - val_loss: 0.3574 - val_acc: 0.8614\n",
      "Epoch 43/100\n",
      "5359/5359 [==============================] - 1s 248us/step - loss: 0.3297 - acc: 0.8632 - val_loss: 0.3594 - val_acc: 0.8599\n",
      "Epoch 44/100\n",
      "5359/5359 [==============================] - 1s 236us/step - loss: 0.3289 - acc: 0.8628 - val_loss: 0.3600 - val_acc: 0.8576\n",
      "Epoch 45/100\n",
      "5359/5359 [==============================] - 1s 233us/step - loss: 0.3297 - acc: 0.8619 - val_loss: 0.3604 - val_acc: 0.8584\n",
      "Epoch 46/100\n",
      "5359/5359 [==============================] - 1s 241us/step - loss: 0.3290 - acc: 0.8632 - val_loss: 0.3586 - val_acc: 0.8607\n",
      "Epoch 47/100\n"
     ]
    },
    {
     "name": "stdout",
     "output_type": "stream",
     "text": [
      "5359/5359 [==============================] - 1s 267us/step - loss: 0.3293 - acc: 0.8619 - val_loss: 0.3568 - val_acc: 0.8622\n",
      "Epoch 48/100\n",
      "5359/5359 [==============================] - 1s 246us/step - loss: 0.3291 - acc: 0.8651 - val_loss: 0.3585 - val_acc: 0.8607\n",
      "Epoch 49/100\n",
      "5359/5359 [==============================] - 1s 242us/step - loss: 0.3285 - acc: 0.8638 - val_loss: 0.3597 - val_acc: 0.8595\n",
      "Epoch 50/100\n",
      "5359/5359 [==============================] - 1s 225us/step - loss: 0.3283 - acc: 0.8630 - val_loss: 0.3605 - val_acc: 0.8599\n",
      "Epoch 51/100\n",
      "5359/5359 [==============================] - 1s 226us/step - loss: 0.3286 - acc: 0.8643 - val_loss: 0.3586 - val_acc: 0.8607\n",
      "Epoch 52/100\n",
      "5359/5359 [==============================] - 1s 234us/step - loss: 0.3278 - acc: 0.8627 - val_loss: 0.3586 - val_acc: 0.8595\n",
      "Epoch 53/100\n",
      "5359/5359 [==============================] - 1s 255us/step - loss: 0.3275 - acc: 0.8621 - val_loss: 0.3593 - val_acc: 0.8580\n",
      "Epoch 54/100\n",
      "5359/5359 [==============================] - 1s 243us/step - loss: 0.3269 - acc: 0.8630 - val_loss: 0.3586 - val_acc: 0.8569\n",
      "Epoch 55/100\n",
      "5359/5359 [==============================] - 1s 242us/step - loss: 0.3278 - acc: 0.8625 - val_loss: 0.3580 - val_acc: 0.8588\n",
      "Epoch 56/100\n",
      "5359/5359 [==============================] - 1s 226us/step - loss: 0.3265 - acc: 0.8625 - val_loss: 0.3596 - val_acc: 0.8588\n",
      "Epoch 57/100\n",
      "5359/5359 [==============================] - 1s 226us/step - loss: 0.3273 - acc: 0.8645 - val_loss: 0.3599 - val_acc: 0.8584\n",
      "Epoch 58/100\n",
      "5359/5359 [==============================] - 1s 225us/step - loss: 0.3270 - acc: 0.8643 - val_loss: 0.3596 - val_acc: 0.8584\n",
      "Epoch 59/100\n",
      "5359/5359 [==============================] - 1s 228us/step - loss: 0.3270 - acc: 0.8619 - val_loss: 0.3590 - val_acc: 0.8565\n",
      "Epoch 60/100\n",
      "5359/5359 [==============================] - 1s 231us/step - loss: 0.3272 - acc: 0.8636 - val_loss: 0.3580 - val_acc: 0.8584\n",
      "Epoch 61/100\n",
      "5359/5359 [==============================] - 1s 230us/step - loss: 0.3264 - acc: 0.8632 - val_loss: 0.3592 - val_acc: 0.8569\n",
      "Epoch 62/100\n",
      "5359/5359 [==============================] - 1s 225us/step - loss: 0.3265 - acc: 0.8645 - val_loss: 0.3564 - val_acc: 0.8588\n",
      "Epoch 63/100\n",
      "5359/5359 [==============================] - 1s 225us/step - loss: 0.3257 - acc: 0.8638 - val_loss: 0.3602 - val_acc: 0.8591\n",
      "Epoch 64/100\n",
      "5359/5359 [==============================] - 1s 225us/step - loss: 0.3265 - acc: 0.8614 - val_loss: 0.3583 - val_acc: 0.8565\n",
      "Epoch 65/100\n",
      "5359/5359 [==============================] - 1s 225us/step - loss: 0.3259 - acc: 0.8630 - val_loss: 0.3598 - val_acc: 0.8580\n",
      "Epoch 66/100\n",
      "5359/5359 [==============================] - 1s 241us/step - loss: 0.3258 - acc: 0.8647 - val_loss: 0.3600 - val_acc: 0.8576\n",
      "Epoch 67/100\n",
      "5359/5359 [==============================] - 1s 227us/step - loss: 0.3257 - acc: 0.8632 - val_loss: 0.3614 - val_acc: 0.8561\n",
      "Epoch 68/100\n",
      "5359/5359 [==============================] - 1s 224us/step - loss: 0.3257 - acc: 0.8660 - val_loss: 0.3585 - val_acc: 0.8565\n",
      "Epoch 69/100\n",
      "5359/5359 [==============================] - 1s 225us/step - loss: 0.3256 - acc: 0.8651 - val_loss: 0.3621 - val_acc: 0.8561\n",
      "Epoch 70/100\n",
      "5359/5359 [==============================] - 1s 224us/step - loss: 0.3255 - acc: 0.8645 - val_loss: 0.3595 - val_acc: 0.8557\n",
      "Epoch 71/100\n",
      "5359/5359 [==============================] - 1s 225us/step - loss: 0.3251 - acc: 0.8645 - val_loss: 0.3596 - val_acc: 0.8557\n",
      "Epoch 72/100\n",
      "5359/5359 [==============================] - 1s 225us/step - loss: 0.3244 - acc: 0.8649 - val_loss: 0.3597 - val_acc: 0.8557\n",
      "Epoch 73/100\n",
      "5359/5359 [==============================] - 1s 225us/step - loss: 0.3257 - acc: 0.8625 - val_loss: 0.3594 - val_acc: 0.8554\n",
      "Epoch 74/100\n",
      "5359/5359 [==============================] - 1s 225us/step - loss: 0.3254 - acc: 0.8640 - val_loss: 0.3617 - val_acc: 0.8520\n",
      "Epoch 75/100\n",
      "5359/5359 [==============================] - 1s 225us/step - loss: 0.3241 - acc: 0.8651 - val_loss: 0.3587 - val_acc: 0.8557\n",
      "Epoch 76/100\n",
      "5359/5359 [==============================] - 1s 225us/step - loss: 0.3249 - acc: 0.8649 - val_loss: 0.3604 - val_acc: 0.8557\n",
      "Epoch 77/100\n",
      "5359/5359 [==============================] - 1s 224us/step - loss: 0.3251 - acc: 0.8647 - val_loss: 0.3587 - val_acc: 0.8573\n",
      "Epoch 78/100\n",
      "5359/5359 [==============================] - 1s 225us/step - loss: 0.3249 - acc: 0.8664 - val_loss: 0.3590 - val_acc: 0.8565\n",
      "Epoch 79/100\n",
      "5359/5359 [==============================] - 1s 236us/step - loss: 0.3244 - acc: 0.8664 - val_loss: 0.3588 - val_acc: 0.8557\n",
      "Epoch 80/100\n",
      "5359/5359 [==============================] - 1s 229us/step - loss: 0.3244 - acc: 0.8625 - val_loss: 0.3572 - val_acc: 0.8584\n",
      "Epoch 81/100\n",
      "5359/5359 [==============================] - 1s 248us/step - loss: 0.3242 - acc: 0.8634 - val_loss: 0.3606 - val_acc: 0.8580\n",
      "Epoch 82/100\n",
      "5359/5359 [==============================] - 1s 248us/step - loss: 0.3252 - acc: 0.8647 - val_loss: 0.3597 - val_acc: 0.8588\n",
      "Epoch 83/100\n",
      "5359/5359 [==============================] - 1s 228us/step - loss: 0.3240 - acc: 0.8630 - val_loss: 0.3651 - val_acc: 0.8512\n",
      "Epoch 84/100\n",
      "5359/5359 [==============================] - 1s 234us/step - loss: 0.3247 - acc: 0.8653 - val_loss: 0.3583 - val_acc: 0.8573\n",
      "Epoch 85/100\n",
      "5359/5359 [==============================] - 1s 226us/step - loss: 0.3245 - acc: 0.8645 - val_loss: 0.3583 - val_acc: 0.8584\n",
      "Epoch 86/100\n",
      "5359/5359 [==============================] - 1s 227us/step - loss: 0.3242 - acc: 0.8642 - val_loss: 0.3591 - val_acc: 0.8557\n",
      "Epoch 87/100\n",
      "5359/5359 [==============================] - 1s 226us/step - loss: 0.3242 - acc: 0.8645 - val_loss: 0.3613 - val_acc: 0.8527\n",
      "Epoch 88/100\n",
      "5359/5359 [==============================] - 1s 227us/step - loss: 0.3244 - acc: 0.8645 - val_loss: 0.3567 - val_acc: 0.8573\n",
      "Epoch 89/100\n",
      "5359/5359 [==============================] - 1s 229us/step - loss: 0.3237 - acc: 0.8645 - val_loss: 0.3587 - val_acc: 0.8569\n",
      "Epoch 90/100\n",
      "5359/5359 [==============================] - 1s 228us/step - loss: 0.3242 - acc: 0.8634 - val_loss: 0.3593 - val_acc: 0.8576\n",
      "Epoch 91/100\n",
      "5359/5359 [==============================] - 1s 235us/step - loss: 0.3240 - acc: 0.8662 - val_loss: 0.3615 - val_acc: 0.8565\n",
      "Epoch 92/100\n",
      "5359/5359 [==============================] - 1s 245us/step - loss: 0.3234 - acc: 0.8670 - val_loss: 0.3614 - val_acc: 0.8565\n",
      "Epoch 93/100\n",
      "5359/5359 [==============================] - 1s 235us/step - loss: 0.3242 - acc: 0.8651 - val_loss: 0.3611 - val_acc: 0.8595\n",
      "Epoch 94/100\n",
      "5359/5359 [==============================] - 1s 230us/step - loss: 0.3235 - acc: 0.8656 - val_loss: 0.3630 - val_acc: 0.8538\n",
      "Epoch 95/100\n",
      "5359/5359 [==============================] - 1s 229us/step - loss: 0.3239 - acc: 0.8658 - val_loss: 0.3601 - val_acc: 0.8557\n",
      "Epoch 96/100\n",
      "5359/5359 [==============================] - 1s 228us/step - loss: 0.3242 - acc: 0.8636 - val_loss: 0.3625 - val_acc: 0.8546\n",
      "Epoch 97/100\n",
      "5359/5359 [==============================] - 1s 234us/step - loss: 0.3233 - acc: 0.8651 - val_loss: 0.3624 - val_acc: 0.8554\n",
      "Epoch 98/100\n",
      "5359/5359 [==============================] - 1s 228us/step - loss: 0.3235 - acc: 0.8649 - val_loss: 0.3615 - val_acc: 0.8527\n",
      "Epoch 99/100\n",
      "5359/5359 [==============================] - 1s 228us/step - loss: 0.3232 - acc: 0.8653 - val_loss: 0.3626 - val_acc: 0.8538\n",
      "Epoch 100/100\n",
      "5359/5359 [==============================] - 1s 230us/step - loss: 0.3228 - acc: 0.8662 - val_loss: 0.3641 - val_acc: 0.8516\n"
     ]
    }
   ],
   "source": [
    "# Fitting the ANN to the Training set\n",
    "model_history=classifier.fit(X_train, y_train,validation_split=0.33, batch_size = 10, nb_epoch = 100)"
   ]
  },
  {
   "cell_type": "code",
   "execution_count": 48,
   "metadata": {},
   "outputs": [
    {
     "name": "stdout",
     "output_type": "stream",
     "text": [
      "dict_keys(['val_loss', 'val_acc', 'loss', 'acc'])\n"
     ]
    }
   ],
   "source": [
    "# list all data in history\n",
    "print(model_history.history.keys())"
   ]
  },
  {
   "cell_type": "code",
   "execution_count": 49,
   "metadata": {},
   "outputs": [
    {
     "data": {
      "image/png": "[encoded data removed]",
      "text/plain": [
       "<Figure size 432x288 with 1 Axes>"
      ]
     },
     "metadata": {
      "needs_background": "light"
     },
     "output_type": "display_data"
    }
   ],
   "source": [
    "# summarize history for accuracy\n",
    "plt.plot(model_history.history['acc'])\n",
    "plt.plot(model_history.history['val_acc'])\n",
    "plt.title('model accuracy')\n",
    "plt.ylabel('accuracy')\n",
    "plt.xlabel('epoch')\n",
    "plt.legend(['train', 'test'], loc='upper left')\n",
    "plt.show()"
   ]
  },
  {
   "cell_type": "code",
   "execution_count": 50,
   "metadata": {},
   "outputs": [
    {
     "data": {
      "image/png": "[encoded data removed]",
      "text/plain": [
       "<Figure size 432x288 with 1 Axes>"
      ]
     },
     "metadata": {
      "needs_background": "light"
     },
     "output_type": "display_data"
    }
   ],
   "source": [
    "# summarize history for loss\n",
    "plt.plot(model_history.history['loss'])\n",
    "plt.plot(model_history.history['val_loss'])\n",
    "plt.title('model loss')\n",
    "plt.ylabel('loss')\n",
    "plt.xlabel('epoch')\n",
    "plt.legend(['train', 'test'], loc='upper left')\n",
    "plt.show()"
   ]
  },
  {
   "cell_type": "code",
   "execution_count": null,
   "metadata": {},
   "outputs": [],
   "source": [
    "# Part 3 - Making the predictions and evaluating the model"
   ]
  },
  {
   "cell_type": "code",
   "execution_count": 52,
   "metadata": {},
   "outputs": [
    {
     "data": {
      "text/plain": [
       "array([[False],\n",
       "       [False],\n",
       "       [False],\n",
       "       ...,\n",
       "       [False],\n",
       "       [False],\n",
       "       [False]])"
      ]
     },
     "execution_count": 52,
     "metadata": {},
     "output_type": "execute_result"
    }
   ],
   "source": [
    "# Predicting the Test set results\n",
    "pred = classifier.predict(X_test)\n",
    "pred = (pred > 0.5)\n",
    "pred"
   ]
  },
  {
   "cell_type": "code",
   "execution_count": 53,
   "metadata": {},
   "outputs": [
    {
     "name": "stdout",
     "output_type": "stream",
     "text": [
      "              precision    recall  f1-score   support\n",
      "\n",
      "       False       0.92      0.89      0.91      1645\n",
      "        True       0.57      0.65      0.61       355\n",
      "\n",
      "    accuracy                           0.85      2000\n",
      "   macro avg       0.75      0.77      0.76      2000\n",
      "weighted avg       0.86      0.85      0.86      2000\n",
      "\n",
      "[[1472  173]\n",
      " [ 123  232]]\n"
     ]
    }
   ],
   "source": [
    "# Making the Confusion Matrix\n",
    "from sklearn.metrics import classification_report,confusion_matrix\n",
    "print(classification_report(pred,y_test))\n",
    "print(confusion_matrix(pred,y_test))"
   ]
  },
  {
   "cell_type": "code",
   "execution_count": 57,
   "metadata": {},
   "outputs": [
    {
     "data": {
      "text/plain": [
       "0.852"
      ]
     },
     "execution_count": 57,
     "metadata": {},
     "output_type": "execute_result"
    }
   ],
   "source": [
    "# Calculate the Accuracy\n",
    "from sklearn.metrics import accuracy_score\n",
    "score=accuracy_score(pred,y_test)\n",
    "score"
   ]
  }
 ],
 "metadata": {
  "kernelspec": {
   "display_name": "Python 3",
   "language": "python",
   "name": "python3"
  },
  "language_info": {
   "codemirror_mode": {
    "name": "ipython",
    "version": 3
   },
   "file_extension": ".py",
   "mimetype": "text/x-python",
   "name": "python",
   "nbconvert_exporter": "python",
   "pygments_lexer": "ipython3",
   "version": "3.6.10"
  },
  "toc": {
   "base_numbering": 1,
   "nav_menu": {},
   "number_sections": true,
   "sideBar": true,
   "skip_h1_title": false,
   "title_cell": "Table of Contents",
   "title_sidebar": "Contents",
   "toc_cell": false,
   "toc_position": {},
   "toc_section_display": true,
   "toc_window_display": false
  },
  "varInspector": {
   "cols": {
    "lenName": 16,
    "lenType": 16,
    "lenVar": 40
   },
   "kernels_config": {
    "python": {
     "delete_cmd_postfix": "",
     "delete_cmd_prefix": "del ",
     "library": "var_list.py",
     "varRefreshCmd": "print(var_dic_list())"
    },
    "r": {
     "delete_cmd_postfix": ") ",
     "delete_cmd_prefix": "rm(",
     "library": "var_list.r",
     "varRefreshCmd": "cat(var_dic_list()) "
    }
   },
   "types_to_exclude": [
    "module",
    "function",
    "builtin_function_or_method",
    "instance",
    "_Feature"
   ],
   "window_display": false
  }
 },
 "nbformat": 4,
 "nbformat_minor": 4
}
